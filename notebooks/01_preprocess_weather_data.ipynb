{
 "cells": [
  {
   "cell_type": "code",
   "execution_count": null,
   "id": "5b6209d5",
   "metadata": {},
   "outputs": [
    {
     "name": "stdout",
     "output_type": "stream",
     "text": [
      "Collecting pandas\n",
      "  Using cached pandas-2.3.0-cp312-cp312-manylinux_2_17_x86_64.manylinux2014_x86_64.whl.metadata (91 kB)\n",
      "Collecting numpy>=1.26.0 (from pandas)\n",
      "  Using cached numpy-2.3.1-cp312-cp312-manylinux_2_28_x86_64.whl.metadata (62 kB)\n",
      "Requirement already satisfied: python-dateutil>=2.8.2 in /home/angel-ottoni/ppgmcs/mcsm_project/.venv_moc/lib/python3.12/site-packages (from pandas) (2.9.0.post0)\n",
      "Collecting pytz>=2020.1 (from pandas)\n",
      "  Using cached pytz-2025.2-py2.py3-none-any.whl.metadata (22 kB)\n",
      "Collecting tzdata>=2022.7 (from pandas)\n",
      "  Using cached tzdata-2025.2-py2.py3-none-any.whl.metadata (1.4 kB)\n",
      "Requirement already satisfied: six>=1.5 in /home/angel-ottoni/ppgmcs/mcsm_project/.venv_moc/lib/python3.12/site-packages (from python-dateutil>=2.8.2->pandas) (1.17.0)\n",
      "Using cached pandas-2.3.0-cp312-cp312-manylinux_2_17_x86_64.manylinux2014_x86_64.whl (12.0 MB)\n",
      "Using cached numpy-2.3.1-cp312-cp312-manylinux_2_28_x86_64.whl (16.6 MB)\n",
      "Using cached pytz-2025.2-py2.py3-none-any.whl (509 kB)\n",
      "Using cached tzdata-2025.2-py2.py3-none-any.whl (347 kB)\n",
      "Installing collected packages: pytz, tzdata, numpy, pandas\n",
      "Successfully installed numpy-2.3.1 pandas-2.3.0 pytz-2025.2 tzdata-2025.2\n",
      "Note: you may need to restart the kernel to use updated packages.\n"
     ]
    }
   ],
   "source": [
    "%pip install pandas"
   ]
  },
  {
   "cell_type": "code",
   "execution_count": 1,
   "id": "17b19b71",
   "metadata": {},
   "outputs": [],
   "source": [
    "import pandas as pd"
   ]
  },
  {
   "cell_type": "code",
   "execution_count": 2,
   "id": "00f3aac3",
   "metadata": {},
   "outputs": [
    {
     "name": "stdout",
     "output_type": "stream",
     "text": [
      "/home/angel-ottoni/ppgmcs/mcsm_project/notebooks\n"
     ]
    }
   ],
   "source": [
    "import os\n",
    "print(os.getcwd())"
   ]
  },
  {
   "cell_type": "markdown",
   "id": "6060a27f",
   "metadata": {},
   "source": [
    "# **Limpeza e importação dos dados**\n",
    "\n",
    "**1. Ler o arquivo `data/dados_A506_D_2002-12-18_2024-12-31.csv`**\n",
    "\n",
    "**2. Tratar e converter os dados corretamente**\n",
    "\n",
    "**3. Selecionar a coluna de precipitação, teperatura média e umidade média**\n",
    "\n",
    "**4. Salvar um CSV limpo chamado `chuva_moc.csv`**"
   ]
  },
  {
   "cell_type": "code",
   "execution_count": 6,
   "id": "ffc37f3f",
   "metadata": {},
   "outputs": [],
   "source": [
    "# Caminho para o arquivo com os dados brutos\n",
    "file_path = '../data/raw/dados_A506_D_2002-12-18_2024-12-31.csv'"
   ]
  },
  {
   "cell_type": "code",
   "execution_count": 7,
   "id": "4e31f958",
   "metadata": {},
   "outputs": [],
   "source": [
    "# Ler os dados com encoding adequado e delimitador correto\n",
    "raw_df = pd.read_csv(\n",
    "    file_path,\n",
    "    encoding='ISO-8859-1',\n",
    "    sep=';',\n",
    "    skiprows=10,  # pode ajustar se necessário\n",
    "    na_values=['', ' ', '-', 'NA', 'nan']\n",
    ")"
   ]
  },
  {
   "cell_type": "code",
   "execution_count": 8,
   "id": "776676b2",
   "metadata": {},
   "outputs": [
    {
     "data": {
      "text/plain": [
       "Index(['Data Medicao', 'PRECIPITACAO TOTAL, DIARIO (AUT)(mm)',\n",
       "       'PRESSAO ATMOSFERICA MEDIA DIARIA (AUT)(mB)',\n",
       "       'TEMPERATURA DO PONTO DE ORVALHO MEDIA DIARIA (AUT)(Â°C)',\n",
       "       'TEMPERATURA MAXIMA, DIARIA (AUT)(Â°C)',\n",
       "       'TEMPERATURA MEDIA, DIARIA (AUT)(Â°C)',\n",
       "       'TEMPERATURA MINIMA, DIARIA (AUT)(Â°C)',\n",
       "       'UMIDADE RELATIVA DO AR, MEDIA DIARIA (AUT)(%)',\n",
       "       'UMIDADE RELATIVA DO AR, MINIMA DIARIA (AUT)(%)',\n",
       "       'VENTO, RAJADA MAXIMA DIARIA (AUT)(m/s)',\n",
       "       'VENTO, VELOCIDADE MEDIA DIARIA (AUT)(m/s)', 'Unnamed: 11'],\n",
       "      dtype='object')"
      ]
     },
     "execution_count": 8,
     "metadata": {},
     "output_type": "execute_result"
    }
   ],
   "source": [
    "raw_df.columns"
   ]
  },
  {
   "cell_type": "code",
   "execution_count": 9,
   "id": "47e3f2cc",
   "metadata": {},
   "outputs": [
    {
     "name": "stdout",
     "output_type": "stream",
     "text": [
      "<class 'pandas.core.frame.DataFrame'>\n",
      "RangeIndex: 8050 entries, 0 to 8049\n",
      "Data columns (total 12 columns):\n",
      " #   Column                                                   Non-Null Count  Dtype  \n",
      "---  ------                                                   --------------  -----  \n",
      " 0   Data Medicao                                             8050 non-null   object \n",
      " 1   PRECIPITACAO TOTAL, DIARIO (AUT)(mm)                     7251 non-null   object \n",
      " 2   PRESSAO ATMOSFERICA MEDIA DIARIA (AUT)(mB)               7609 non-null   object \n",
      " 3   TEMPERATURA DO PONTO DE ORVALHO MEDIA DIARIA (AUT)(Â°C)  7607 non-null   object \n",
      " 4   TEMPERATURA MAXIMA, DIARIA (AUT)(Â°C)                    7626 non-null   object \n",
      " 5   TEMPERATURA MEDIA, DIARIA (AUT)(Â°C)                     7567 non-null   object \n",
      " 6   TEMPERATURA MINIMA, DIARIA (AUT)(Â°C)                    7625 non-null   object \n",
      " 7   UMIDADE RELATIVA DO AR, MEDIA DIARIA (AUT)(%)            7642 non-null   object \n",
      " 8   UMIDADE RELATIVA DO AR, MINIMA DIARIA (AUT)(%)           7689 non-null   float64\n",
      " 9   VENTO, RAJADA MAXIMA DIARIA (AUT)(m/s)                   7685 non-null   object \n",
      " 10  VENTO, VELOCIDADE MEDIA DIARIA (AUT)(m/s)                7608 non-null   object \n",
      " 11  Unnamed: 11                                              0 non-null      float64\n",
      "dtypes: float64(2), object(10)\n",
      "memory usage: 754.8+ KB\n"
     ]
    }
   ],
   "source": [
    "raw_df.info()"
   ]
  },
  {
   "cell_type": "code",
   "execution_count": 10,
   "id": "c1d5ae35",
   "metadata": {},
   "outputs": [
    {
     "data": {
      "text/plain": [
       "(8050, 12)"
      ]
     },
     "execution_count": 10,
     "metadata": {},
     "output_type": "execute_result"
    }
   ],
   "source": [
    "raw_df.shape"
   ]
  },
  {
   "cell_type": "code",
   "execution_count": 11,
   "id": "39011fa5",
   "metadata": {},
   "outputs": [],
   "source": [
    "variaveis = [\n",
    "    'PRECIPITACAO TOTAL, DIARIO (AUT)(mm)',\n",
    "    'TEMPERATURA MEDIA, DIARIA (AUT)(Â°C)',\n",
    "    'UMIDADE RELATIVA DO AR, MEDIA DIARIA (AUT)(%)'\n",
    "]"
   ]
  },
  {
   "cell_type": "code",
   "execution_count": 12,
   "id": "df09a8ac",
   "metadata": {},
   "outputs": [],
   "source": [
    "df = raw_df[['Data Medicao'] + variaveis].copy() "
   ]
  },
  {
   "cell_type": "code",
   "execution_count": 13,
   "id": "bf92e9c0",
   "metadata": {},
   "outputs": [],
   "source": [
    "df.columns = ['data', 'precipitacao_mm', 'temp_media', 'umidade_media']"
   ]
  },
  {
   "cell_type": "code",
   "execution_count": 14,
   "id": "06e36fbd",
   "metadata": {},
   "outputs": [
    {
     "data": {
      "text/html": [
       "<div>\n",
       "<style scoped>\n",
       "    .dataframe tbody tr th:only-of-type {\n",
       "        vertical-align: middle;\n",
       "    }\n",
       "\n",
       "    .dataframe tbody tr th {\n",
       "        vertical-align: top;\n",
       "    }\n",
       "\n",
       "    .dataframe thead th {\n",
       "        text-align: right;\n",
       "    }\n",
       "</style>\n",
       "<table border=\"1\" class=\"dataframe\">\n",
       "  <thead>\n",
       "    <tr style=\"text-align: right;\">\n",
       "      <th></th>\n",
       "      <th>data</th>\n",
       "      <th>precipitacao_mm</th>\n",
       "      <th>temp_media</th>\n",
       "      <th>umidade_media</th>\n",
       "    </tr>\n",
       "  </thead>\n",
       "  <tbody>\n",
       "    <tr>\n",
       "      <th>0</th>\n",
       "      <td>2002-12-18</td>\n",
       "      <td>NaN</td>\n",
       "      <td>NaN</td>\n",
       "      <td>NaN</td>\n",
       "    </tr>\n",
       "    <tr>\n",
       "      <th>1</th>\n",
       "      <td>2002-12-19</td>\n",
       "      <td>NaN</td>\n",
       "      <td>24,6</td>\n",
       "      <td>74,1</td>\n",
       "    </tr>\n",
       "    <tr>\n",
       "      <th>2</th>\n",
       "      <td>2002-12-20</td>\n",
       "      <td>0</td>\n",
       "      <td>25,3</td>\n",
       "      <td>71,2</td>\n",
       "    </tr>\n",
       "    <tr>\n",
       "      <th>3</th>\n",
       "      <td>2002-12-21</td>\n",
       "      <td>0</td>\n",
       "      <td>26,4</td>\n",
       "      <td>65,7</td>\n",
       "    </tr>\n",
       "    <tr>\n",
       "      <th>4</th>\n",
       "      <td>2002-12-22</td>\n",
       "      <td>0</td>\n",
       "      <td>26,5</td>\n",
       "      <td>63,8</td>\n",
       "    </tr>\n",
       "  </tbody>\n",
       "</table>\n",
       "</div>"
      ],
      "text/plain": [
       "         data precipitacao_mm temp_media umidade_media\n",
       "0  2002-12-18             NaN        NaN           NaN\n",
       "1  2002-12-19             NaN       24,6          74,1\n",
       "2  2002-12-20               0       25,3          71,2\n",
       "3  2002-12-21               0       26,4          65,7\n",
       "4  2002-12-22               0       26,5          63,8"
      ]
     },
     "execution_count": 14,
     "metadata": {},
     "output_type": "execute_result"
    }
   ],
   "source": [
    "df.head()"
   ]
  },
  {
   "cell_type": "code",
   "execution_count": 15,
   "id": "65ac2c99",
   "metadata": {},
   "outputs": [],
   "source": [
    "df['data'] = pd.to_datetime(df['data'], errors='coerce')"
   ]
  },
  {
   "cell_type": "code",
   "execution_count": 16,
   "id": "b9038e72",
   "metadata": {},
   "outputs": [
    {
     "data": {
      "text/plain": [
       "data               datetime64[ns]\n",
       "precipitacao_mm            object\n",
       "temp_media                 object\n",
       "umidade_media              object\n",
       "dtype: object"
      ]
     },
     "execution_count": 16,
     "metadata": {},
     "output_type": "execute_result"
    }
   ],
   "source": [
    "df.dtypes"
   ]
  },
  {
   "cell_type": "code",
   "execution_count": 17,
   "id": "e69729a5",
   "metadata": {},
   "outputs": [],
   "source": [
    "colunas_numericas = ['precipitacao_mm', 'temp_media', 'umidade_media']\n",
    "\n",
    "for col in colunas_numericas:\n",
    "    df[col] = pd.to_numeric(df[col].str.replace(',', '.'), errors='coerce')"
   ]
  },
  {
   "cell_type": "code",
   "execution_count": 18,
   "id": "2327faa5",
   "metadata": {},
   "outputs": [
    {
     "name": "stdout",
     "output_type": "stream",
     "text": [
      "data               datetime64[ns]\n",
      "precipitacao_mm           float64\n",
      "temp_media                float64\n",
      "umidade_media             float64\n",
      "dtype: object\n"
     ]
    }
   ],
   "source": [
    "print(df.dtypes)"
   ]
  },
  {
   "cell_type": "code",
   "execution_count": 19,
   "id": "c6aba675",
   "metadata": {},
   "outputs": [
    {
     "data": {
      "text/html": [
       "<div>\n",
       "<style scoped>\n",
       "    .dataframe tbody tr th:only-of-type {\n",
       "        vertical-align: middle;\n",
       "    }\n",
       "\n",
       "    .dataframe tbody tr th {\n",
       "        vertical-align: top;\n",
       "    }\n",
       "\n",
       "    .dataframe thead th {\n",
       "        text-align: right;\n",
       "    }\n",
       "</style>\n",
       "<table border=\"1\" class=\"dataframe\">\n",
       "  <thead>\n",
       "    <tr style=\"text-align: right;\">\n",
       "      <th></th>\n",
       "      <th>data</th>\n",
       "      <th>precipitacao_mm</th>\n",
       "      <th>temp_media</th>\n",
       "      <th>umidade_media</th>\n",
       "    </tr>\n",
       "  </thead>\n",
       "  <tbody>\n",
       "    <tr>\n",
       "      <th>0</th>\n",
       "      <td>2002-12-18</td>\n",
       "      <td>NaN</td>\n",
       "      <td>NaN</td>\n",
       "      <td>NaN</td>\n",
       "    </tr>\n",
       "    <tr>\n",
       "      <th>1</th>\n",
       "      <td>2002-12-19</td>\n",
       "      <td>NaN</td>\n",
       "      <td>24.6</td>\n",
       "      <td>74.1</td>\n",
       "    </tr>\n",
       "    <tr>\n",
       "      <th>2</th>\n",
       "      <td>2002-12-20</td>\n",
       "      <td>0.0</td>\n",
       "      <td>25.3</td>\n",
       "      <td>71.2</td>\n",
       "    </tr>\n",
       "    <tr>\n",
       "      <th>3</th>\n",
       "      <td>2002-12-21</td>\n",
       "      <td>0.0</td>\n",
       "      <td>26.4</td>\n",
       "      <td>65.7</td>\n",
       "    </tr>\n",
       "    <tr>\n",
       "      <th>4</th>\n",
       "      <td>2002-12-22</td>\n",
       "      <td>0.0</td>\n",
       "      <td>26.5</td>\n",
       "      <td>63.8</td>\n",
       "    </tr>\n",
       "  </tbody>\n",
       "</table>\n",
       "</div>"
      ],
      "text/plain": [
       "        data  precipitacao_mm  temp_media  umidade_media\n",
       "0 2002-12-18              NaN         NaN            NaN\n",
       "1 2002-12-19              NaN        24.6           74.1\n",
       "2 2002-12-20              0.0        25.3           71.2\n",
       "3 2002-12-21              0.0        26.4           65.7\n",
       "4 2002-12-22              0.0        26.5           63.8"
      ]
     },
     "execution_count": 19,
     "metadata": {},
     "output_type": "execute_result"
    }
   ],
   "source": [
    "df.head()"
   ]
  },
  {
   "cell_type": "code",
   "execution_count": 22,
   "id": "dfecf3ca",
   "metadata": {},
   "outputs": [
    {
     "name": "stdout",
     "output_type": "stream",
     "text": [
      "A coluna 'precipitacao_mm' tem 799 valores nulos.\n"
     ]
    }
   ],
   "source": [
    "# Contar valores nulos na coluna 'precipitacao_mm'\n",
    "n_nulos = df['precipitacao_mm'].isna().sum()\n",
    "\n",
    "print(f\"A coluna 'precipitacao_mm' tem {n_nulos} valores nulos.\")"
   ]
  },
  {
   "cell_type": "code",
   "execution_count": 44,
   "id": "a65c384f",
   "metadata": {},
   "outputs": [],
   "source": [
    "df = df.dropna(subset=['data', 'precipitacao_mm', 'temp_media', 'umidade_media'])"
   ]
  },
  {
   "cell_type": "code",
   "execution_count": 45,
   "id": "d4a84d8c",
   "metadata": {},
   "outputs": [
    {
     "data": {
      "text/plain": [
       "(7220, 4)"
      ]
     },
     "execution_count": 45,
     "metadata": {},
     "output_type": "execute_result"
    }
   ],
   "source": [
    "df.shape"
   ]
  },
  {
   "cell_type": "code",
   "execution_count": 46,
   "id": "503502b0",
   "metadata": {},
   "outputs": [
    {
     "name": "stdout",
     "output_type": "stream",
     "text": [
      "<class 'pandas.core.frame.DataFrame'>\n",
      "Index: 7220 entries, 2 to 8049\n",
      "Data columns (total 4 columns):\n",
      " #   Column           Non-Null Count  Dtype         \n",
      "---  ------           --------------  -----         \n",
      " 0   data             7220 non-null   datetime64[ns]\n",
      " 1   precipitacao_mm  7220 non-null   float64       \n",
      " 2   temp_media       7220 non-null   float64       \n",
      " 3   umidade_media    7220 non-null   float64       \n",
      "dtypes: datetime64[ns](1), float64(3)\n",
      "memory usage: 282.0 KB\n"
     ]
    }
   ],
   "source": [
    "df.info()"
   ]
  },
  {
   "cell_type": "code",
   "execution_count": 50,
   "id": "e17ecac3",
   "metadata": {},
   "outputs": [],
   "source": [
    "df = df.sort_values('data').reset_index(drop=True)"
   ]
  },
  {
   "cell_type": "code",
   "execution_count": 51,
   "id": "375a73c4",
   "metadata": {},
   "outputs": [
    {
     "data": {
      "text/html": [
       "<div>\n",
       "<style scoped>\n",
       "    .dataframe tbody tr th:only-of-type {\n",
       "        vertical-align: middle;\n",
       "    }\n",
       "\n",
       "    .dataframe tbody tr th {\n",
       "        vertical-align: top;\n",
       "    }\n",
       "\n",
       "    .dataframe thead th {\n",
       "        text-align: right;\n",
       "    }\n",
       "</style>\n",
       "<table border=\"1\" class=\"dataframe\">\n",
       "  <thead>\n",
       "    <tr style=\"text-align: right;\">\n",
       "      <th></th>\n",
       "      <th>data</th>\n",
       "      <th>precipitacao_mm</th>\n",
       "      <th>temp_media</th>\n",
       "      <th>umidade_media</th>\n",
       "    </tr>\n",
       "  </thead>\n",
       "  <tbody>\n",
       "    <tr>\n",
       "      <th>0</th>\n",
       "      <td>2002-12-20</td>\n",
       "      <td>0.0</td>\n",
       "      <td>25.3</td>\n",
       "      <td>71.2</td>\n",
       "    </tr>\n",
       "    <tr>\n",
       "      <th>1</th>\n",
       "      <td>2002-12-21</td>\n",
       "      <td>0.0</td>\n",
       "      <td>26.4</td>\n",
       "      <td>65.7</td>\n",
       "    </tr>\n",
       "    <tr>\n",
       "      <th>2</th>\n",
       "      <td>2002-12-22</td>\n",
       "      <td>0.0</td>\n",
       "      <td>26.5</td>\n",
       "      <td>63.8</td>\n",
       "    </tr>\n",
       "    <tr>\n",
       "      <th>3</th>\n",
       "      <td>2002-12-23</td>\n",
       "      <td>0.0</td>\n",
       "      <td>25.2</td>\n",
       "      <td>73.4</td>\n",
       "    </tr>\n",
       "    <tr>\n",
       "      <th>4</th>\n",
       "      <td>2002-12-24</td>\n",
       "      <td>4.0</td>\n",
       "      <td>27.2</td>\n",
       "      <td>67.3</td>\n",
       "    </tr>\n",
       "    <tr>\n",
       "      <th>5</th>\n",
       "      <td>2002-12-25</td>\n",
       "      <td>0.0</td>\n",
       "      <td>24.9</td>\n",
       "      <td>80.8</td>\n",
       "    </tr>\n",
       "    <tr>\n",
       "      <th>6</th>\n",
       "      <td>2002-12-26</td>\n",
       "      <td>131.8</td>\n",
       "      <td>23.4</td>\n",
       "      <td>84.3</td>\n",
       "    </tr>\n",
       "    <tr>\n",
       "      <th>7</th>\n",
       "      <td>2002-12-27</td>\n",
       "      <td>23.8</td>\n",
       "      <td>21.3</td>\n",
       "      <td>93.1</td>\n",
       "    </tr>\n",
       "    <tr>\n",
       "      <th>8</th>\n",
       "      <td>2002-12-28</td>\n",
       "      <td>10.6</td>\n",
       "      <td>22.3</td>\n",
       "      <td>87.0</td>\n",
       "    </tr>\n",
       "    <tr>\n",
       "      <th>9</th>\n",
       "      <td>2002-12-29</td>\n",
       "      <td>18.2</td>\n",
       "      <td>21.6</td>\n",
       "      <td>93.8</td>\n",
       "    </tr>\n",
       "    <tr>\n",
       "      <th>10</th>\n",
       "      <td>2002-12-30</td>\n",
       "      <td>18.2</td>\n",
       "      <td>21.8</td>\n",
       "      <td>90.7</td>\n",
       "    </tr>\n",
       "    <tr>\n",
       "      <th>11</th>\n",
       "      <td>2002-12-31</td>\n",
       "      <td>13.2</td>\n",
       "      <td>22.3</td>\n",
       "      <td>90.4</td>\n",
       "    </tr>\n",
       "    <tr>\n",
       "      <th>12</th>\n",
       "      <td>2003-01-01</td>\n",
       "      <td>7.0</td>\n",
       "      <td>22.8</td>\n",
       "      <td>89.3</td>\n",
       "    </tr>\n",
       "    <tr>\n",
       "      <th>13</th>\n",
       "      <td>2003-01-02</td>\n",
       "      <td>11.2</td>\n",
       "      <td>23.0</td>\n",
       "      <td>89.8</td>\n",
       "    </tr>\n",
       "    <tr>\n",
       "      <th>14</th>\n",
       "      <td>2003-01-03</td>\n",
       "      <td>7.8</td>\n",
       "      <td>22.4</td>\n",
       "      <td>93.1</td>\n",
       "    </tr>\n",
       "    <tr>\n",
       "      <th>15</th>\n",
       "      <td>2003-01-04</td>\n",
       "      <td>52.2</td>\n",
       "      <td>24.1</td>\n",
       "      <td>81.8</td>\n",
       "    </tr>\n",
       "    <tr>\n",
       "      <th>16</th>\n",
       "      <td>2003-01-05</td>\n",
       "      <td>20.8</td>\n",
       "      <td>23.0</td>\n",
       "      <td>87.1</td>\n",
       "    </tr>\n",
       "    <tr>\n",
       "      <th>17</th>\n",
       "      <td>2003-01-06</td>\n",
       "      <td>3.2</td>\n",
       "      <td>24.7</td>\n",
       "      <td>79.4</td>\n",
       "    </tr>\n",
       "    <tr>\n",
       "      <th>18</th>\n",
       "      <td>2003-01-07</td>\n",
       "      <td>1.2</td>\n",
       "      <td>23.9</td>\n",
       "      <td>85.5</td>\n",
       "    </tr>\n",
       "    <tr>\n",
       "      <th>19</th>\n",
       "      <td>2003-01-08</td>\n",
       "      <td>0.4</td>\n",
       "      <td>25.4</td>\n",
       "      <td>81.5</td>\n",
       "    </tr>\n",
       "    <tr>\n",
       "      <th>20</th>\n",
       "      <td>2003-01-09</td>\n",
       "      <td>0.0</td>\n",
       "      <td>26.3</td>\n",
       "      <td>77.3</td>\n",
       "    </tr>\n",
       "    <tr>\n",
       "      <th>21</th>\n",
       "      <td>2003-01-10</td>\n",
       "      <td>0.0</td>\n",
       "      <td>26.5</td>\n",
       "      <td>76.8</td>\n",
       "    </tr>\n",
       "    <tr>\n",
       "      <th>22</th>\n",
       "      <td>2003-01-22</td>\n",
       "      <td>21.8</td>\n",
       "      <td>22.8</td>\n",
       "      <td>85.4</td>\n",
       "    </tr>\n",
       "    <tr>\n",
       "      <th>23</th>\n",
       "      <td>2003-01-23</td>\n",
       "      <td>0.0</td>\n",
       "      <td>24.7</td>\n",
       "      <td>72.2</td>\n",
       "    </tr>\n",
       "    <tr>\n",
       "      <th>24</th>\n",
       "      <td>2003-01-24</td>\n",
       "      <td>0.0</td>\n",
       "      <td>24.5</td>\n",
       "      <td>72.1</td>\n",
       "    </tr>\n",
       "    <tr>\n",
       "      <th>25</th>\n",
       "      <td>2003-01-25</td>\n",
       "      <td>0.0</td>\n",
       "      <td>25.2</td>\n",
       "      <td>67.7</td>\n",
       "    </tr>\n",
       "    <tr>\n",
       "      <th>26</th>\n",
       "      <td>2003-01-26</td>\n",
       "      <td>0.0</td>\n",
       "      <td>24.6</td>\n",
       "      <td>68.3</td>\n",
       "    </tr>\n",
       "    <tr>\n",
       "      <th>27</th>\n",
       "      <td>2003-01-27</td>\n",
       "      <td>0.0</td>\n",
       "      <td>24.2</td>\n",
       "      <td>71.0</td>\n",
       "    </tr>\n",
       "    <tr>\n",
       "      <th>28</th>\n",
       "      <td>2003-01-28</td>\n",
       "      <td>0.0</td>\n",
       "      <td>23.6</td>\n",
       "      <td>77.7</td>\n",
       "    </tr>\n",
       "    <tr>\n",
       "      <th>29</th>\n",
       "      <td>2003-01-29</td>\n",
       "      <td>0.0</td>\n",
       "      <td>23.6</td>\n",
       "      <td>81.8</td>\n",
       "    </tr>\n",
       "  </tbody>\n",
       "</table>\n",
       "</div>"
      ],
      "text/plain": [
       "         data  precipitacao_mm  temp_media  umidade_media\n",
       "0  2002-12-20              0.0        25.3           71.2\n",
       "1  2002-12-21              0.0        26.4           65.7\n",
       "2  2002-12-22              0.0        26.5           63.8\n",
       "3  2002-12-23              0.0        25.2           73.4\n",
       "4  2002-12-24              4.0        27.2           67.3\n",
       "5  2002-12-25              0.0        24.9           80.8\n",
       "6  2002-12-26            131.8        23.4           84.3\n",
       "7  2002-12-27             23.8        21.3           93.1\n",
       "8  2002-12-28             10.6        22.3           87.0\n",
       "9  2002-12-29             18.2        21.6           93.8\n",
       "10 2002-12-30             18.2        21.8           90.7\n",
       "11 2002-12-31             13.2        22.3           90.4\n",
       "12 2003-01-01              7.0        22.8           89.3\n",
       "13 2003-01-02             11.2        23.0           89.8\n",
       "14 2003-01-03              7.8        22.4           93.1\n",
       "15 2003-01-04             52.2        24.1           81.8\n",
       "16 2003-01-05             20.8        23.0           87.1\n",
       "17 2003-01-06              3.2        24.7           79.4\n",
       "18 2003-01-07              1.2        23.9           85.5\n",
       "19 2003-01-08              0.4        25.4           81.5\n",
       "20 2003-01-09              0.0        26.3           77.3\n",
       "21 2003-01-10              0.0        26.5           76.8\n",
       "22 2003-01-22             21.8        22.8           85.4\n",
       "23 2003-01-23              0.0        24.7           72.2\n",
       "24 2003-01-24              0.0        24.5           72.1\n",
       "25 2003-01-25              0.0        25.2           67.7\n",
       "26 2003-01-26              0.0        24.6           68.3\n",
       "27 2003-01-27              0.0        24.2           71.0\n",
       "28 2003-01-28              0.0        23.6           77.7\n",
       "29 2003-01-29              0.0        23.6           81.8"
      ]
     },
     "execution_count": 51,
     "metadata": {},
     "output_type": "execute_result"
    }
   ],
   "source": [
    "df.head(30)"
   ]
  },
  {
   "cell_type": "code",
   "execution_count": 52,
   "id": "0594fd5f",
   "metadata": {},
   "outputs": [
    {
     "data": {
      "text/html": [
       "<div>\n",
       "<style scoped>\n",
       "    .dataframe tbody tr th:only-of-type {\n",
       "        vertical-align: middle;\n",
       "    }\n",
       "\n",
       "    .dataframe tbody tr th {\n",
       "        vertical-align: top;\n",
       "    }\n",
       "\n",
       "    .dataframe thead th {\n",
       "        text-align: right;\n",
       "    }\n",
       "</style>\n",
       "<table border=\"1\" class=\"dataframe\">\n",
       "  <thead>\n",
       "    <tr style=\"text-align: right;\">\n",
       "      <th></th>\n",
       "      <th>data</th>\n",
       "      <th>precipitacao_mm</th>\n",
       "      <th>temp_media</th>\n",
       "      <th>umidade_media</th>\n",
       "    </tr>\n",
       "  </thead>\n",
       "  <tbody>\n",
       "    <tr>\n",
       "      <th>7215</th>\n",
       "      <td>2024-12-27</td>\n",
       "      <td>0.0</td>\n",
       "      <td>26.0</td>\n",
       "      <td>60.7</td>\n",
       "    </tr>\n",
       "    <tr>\n",
       "      <th>7216</th>\n",
       "      <td>2024-12-28</td>\n",
       "      <td>10.6</td>\n",
       "      <td>25.0</td>\n",
       "      <td>70.2</td>\n",
       "    </tr>\n",
       "    <tr>\n",
       "      <th>7217</th>\n",
       "      <td>2024-12-29</td>\n",
       "      <td>1.6</td>\n",
       "      <td>23.7</td>\n",
       "      <td>74.3</td>\n",
       "    </tr>\n",
       "    <tr>\n",
       "      <th>7218</th>\n",
       "      <td>2024-12-30</td>\n",
       "      <td>0.0</td>\n",
       "      <td>24.7</td>\n",
       "      <td>64.1</td>\n",
       "    </tr>\n",
       "    <tr>\n",
       "      <th>7219</th>\n",
       "      <td>2024-12-31</td>\n",
       "      <td>0.0</td>\n",
       "      <td>22.8</td>\n",
       "      <td>75.7</td>\n",
       "    </tr>\n",
       "  </tbody>\n",
       "</table>\n",
       "</div>"
      ],
      "text/plain": [
       "           data  precipitacao_mm  temp_media  umidade_media\n",
       "7215 2024-12-27              0.0        26.0           60.7\n",
       "7216 2024-12-28             10.6        25.0           70.2\n",
       "7217 2024-12-29              1.6        23.7           74.3\n",
       "7218 2024-12-30              0.0        24.7           64.1\n",
       "7219 2024-12-31              0.0        22.8           75.7"
      ]
     },
     "execution_count": 52,
     "metadata": {},
     "output_type": "execute_result"
    }
   ],
   "source": [
    "df.tail()"
   ]
  },
  {
   "cell_type": "code",
   "execution_count": 23,
   "id": "e61a0a2c",
   "metadata": {},
   "outputs": [],
   "source": [
    "df = df[df['data'].dt.year > 2002]"
   ]
  },
  {
   "cell_type": "code",
   "execution_count": 24,
   "id": "7f19cb9f",
   "metadata": {},
   "outputs": [
    {
     "data": {
      "text/plain": [
       "array([2003, 2004, 2005, 2006, 2007, 2008, 2009, 2010, 2011, 2012, 2013,\n",
       "       2014, 2015, 2016, 2017, 2018, 2019, 2020, 2021, 2022, 2023, 2024],\n",
       "      dtype=int32)"
      ]
     },
     "execution_count": 24,
     "metadata": {},
     "output_type": "execute_result"
    }
   ],
   "source": [
    "df['data'].dt.year.unique()"
   ]
  },
  {
   "cell_type": "code",
   "execution_count": 25,
   "id": "77cc10ce",
   "metadata": {},
   "outputs": [
    {
     "name": "stdout",
     "output_type": "stream",
     "text": [
      "A coluna 'precipitacao_mm' tem 797 valores nulos.\n"
     ]
    }
   ],
   "source": [
    "# Contar valores nulos na coluna 'precipitacao_mm'\n",
    "n_nulos = df['precipitacao_mm'].isna().sum()\n",
    "\n",
    "print(f\"A coluna 'precipitacao_mm' tem {n_nulos} valores nulos.\")"
   ]
  },
  {
   "cell_type": "code",
   "execution_count": 56,
   "id": "c1fe52fb",
   "metadata": {},
   "outputs": [
    {
     "data": {
      "text/plain": [
       "22"
      ]
     },
     "execution_count": 56,
     "metadata": {},
     "output_type": "execute_result"
    }
   ],
   "source": [
    "df['data'].dt.year.nunique()"
   ]
  },
  {
   "cell_type": "code",
   "execution_count": 57,
   "id": "c60b281e",
   "metadata": {},
   "outputs": [
    {
     "data": {
      "text/html": [
       "<div>\n",
       "<style scoped>\n",
       "    .dataframe tbody tr th:only-of-type {\n",
       "        vertical-align: middle;\n",
       "    }\n",
       "\n",
       "    .dataframe tbody tr th {\n",
       "        vertical-align: top;\n",
       "    }\n",
       "\n",
       "    .dataframe thead th {\n",
       "        text-align: right;\n",
       "    }\n",
       "</style>\n",
       "<table border=\"1\" class=\"dataframe\">\n",
       "  <thead>\n",
       "    <tr style=\"text-align: right;\">\n",
       "      <th></th>\n",
       "      <th>data</th>\n",
       "      <th>precipitacao_mm</th>\n",
       "      <th>temp_media</th>\n",
       "      <th>umidade_media</th>\n",
       "    </tr>\n",
       "  </thead>\n",
       "  <tbody>\n",
       "    <tr>\n",
       "      <th>12</th>\n",
       "      <td>2003-01-01</td>\n",
       "      <td>7.0</td>\n",
       "      <td>22.8</td>\n",
       "      <td>89.3</td>\n",
       "    </tr>\n",
       "    <tr>\n",
       "      <th>13</th>\n",
       "      <td>2003-01-02</td>\n",
       "      <td>11.2</td>\n",
       "      <td>23.0</td>\n",
       "      <td>89.8</td>\n",
       "    </tr>\n",
       "    <tr>\n",
       "      <th>14</th>\n",
       "      <td>2003-01-03</td>\n",
       "      <td>7.8</td>\n",
       "      <td>22.4</td>\n",
       "      <td>93.1</td>\n",
       "    </tr>\n",
       "    <tr>\n",
       "      <th>15</th>\n",
       "      <td>2003-01-04</td>\n",
       "      <td>52.2</td>\n",
       "      <td>24.1</td>\n",
       "      <td>81.8</td>\n",
       "    </tr>\n",
       "    <tr>\n",
       "      <th>16</th>\n",
       "      <td>2003-01-05</td>\n",
       "      <td>20.8</td>\n",
       "      <td>23.0</td>\n",
       "      <td>87.1</td>\n",
       "    </tr>\n",
       "  </tbody>\n",
       "</table>\n",
       "</div>"
      ],
      "text/plain": [
       "         data  precipitacao_mm  temp_media  umidade_media\n",
       "12 2003-01-01              7.0        22.8           89.3\n",
       "13 2003-01-02             11.2        23.0           89.8\n",
       "14 2003-01-03              7.8        22.4           93.1\n",
       "15 2003-01-04             52.2        24.1           81.8\n",
       "16 2003-01-05             20.8        23.0           87.1"
      ]
     },
     "execution_count": 57,
     "metadata": {},
     "output_type": "execute_result"
    }
   ],
   "source": [
    "df.head()"
   ]
  },
  {
   "cell_type": "code",
   "execution_count": 59,
   "id": "f099c772",
   "metadata": {},
   "outputs": [
    {
     "name": "stdout",
     "output_type": "stream",
     "text": [
      "Arquivo \"chuva_moc.csv\" salvo com sucesso!!\n"
     ]
    }
   ],
   "source": [
    "df.to_csv('../data/chuva_moc.csv', index=False)\n",
    "print('Arquivo \"chuva_moc.csv\" salvo com sucesso!!')"
   ]
  }
 ],
 "metadata": {
  "kernelspec": {
   "display_name": ".venv_moc",
   "language": "python",
   "name": "python3"
  },
  "language_info": {
   "codemirror_mode": {
    "name": "ipython",
    "version": 3
   },
   "file_extension": ".py",
   "mimetype": "text/x-python",
   "name": "python",
   "nbconvert_exporter": "python",
   "pygments_lexer": "ipython3",
   "version": "3.12.3"
  }
 },
 "nbformat": 4,
 "nbformat_minor": 5
}
