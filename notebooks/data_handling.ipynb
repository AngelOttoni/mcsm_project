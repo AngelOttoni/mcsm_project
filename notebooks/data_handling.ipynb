{
 "cells": [
  {
   "cell_type": "code",
   "execution_count": 1,
   "id": "61b2b08f",
   "metadata": {},
   "outputs": [
    {
     "name": "stdout",
     "output_type": "stream",
     "text": [
      "Note: you may need to restart the kernel to use updated packages.\n"
     ]
    }
   ],
   "source": [
    "# 📦 Step 1: Install necessary packages (only once per environment)\n",
    "%pip install xarray netCDF4 matplotlib cartopy --quiet"
   ]
  },
  {
   "cell_type": "code",
   "execution_count": 1,
   "id": "58ee27b5",
   "metadata": {},
   "outputs": [],
   "source": [
    "# 📚 Step 2: Import libraries\n",
    "import xarray as xr\n",
    "import numpy as np\n",
    "import matplotlib.pyplot as plt\n",
    "\n",
    "# Optional: To suppress scientific notation in plots\n",
    "np.set_printoptions(suppress=True)"
   ]
  },
  {
   "cell_type": "code",
   "execution_count": 6,
   "id": "1a102a8b",
   "metadata": {},
   "outputs": [
    {
     "data": {
      "text/html": [
       "<div>\n",
       "<style scoped>\n",
       "    .dataframe tbody tr th:only-of-type {\n",
       "        vertical-align: middle;\n",
       "    }\n",
       "\n",
       "    .dataframe tbody tr th {\n",
       "        vertical-align: top;\n",
       "    }\n",
       "\n",
       "    .dataframe thead th {\n",
       "        text-align: right;\n",
       "    }\n",
       "</style>\n",
       "<table border=\"1\" class=\"dataframe\">\n",
       "  <thead>\n",
       "    <tr style=\"text-align: right;\">\n",
       "      <th></th>\n",
       "      <th>latitude[unit=\"degrees_north\"]</th>\n",
       "      <th>longitude[unit=\"degrees_east\"]</th>\n",
       "      <th>ppt[unit=\"mm\"]</th>\n",
       "    </tr>\n",
       "    <tr>\n",
       "      <th>time</th>\n",
       "      <th></th>\n",
       "      <th></th>\n",
       "      <th></th>\n",
       "    </tr>\n",
       "  </thead>\n",
       "  <tbody>\n",
       "    <tr>\n",
       "      <th>2010-01-01 00:00:00+00:00</th>\n",
       "      <td>-16.73</td>\n",
       "      <td>-43.87</td>\n",
       "      <td>328.0</td>\n",
       "    </tr>\n",
       "    <tr>\n",
       "      <th>2010-02-01 00:00:00+00:00</th>\n",
       "      <td>-16.73</td>\n",
       "      <td>-43.87</td>\n",
       "      <td>211.0</td>\n",
       "    </tr>\n",
       "    <tr>\n",
       "      <th>2010-03-01 00:00:00+00:00</th>\n",
       "      <td>-16.73</td>\n",
       "      <td>-43.87</td>\n",
       "      <td>2797.0</td>\n",
       "    </tr>\n",
       "    <tr>\n",
       "      <th>2010-04-01 00:00:00+00:00</th>\n",
       "      <td>-16.73</td>\n",
       "      <td>-43.87</td>\n",
       "      <td>252.0</td>\n",
       "    </tr>\n",
       "    <tr>\n",
       "      <th>2010-05-01 00:00:00+00:00</th>\n",
       "      <td>-16.73</td>\n",
       "      <td>-43.87</td>\n",
       "      <td>665.0</td>\n",
       "    </tr>\n",
       "    <tr>\n",
       "      <th>2010-06-01 00:00:00+00:00</th>\n",
       "      <td>-16.73</td>\n",
       "      <td>-43.87</td>\n",
       "      <td>0.0</td>\n",
       "    </tr>\n",
       "    <tr>\n",
       "      <th>2010-07-01 00:00:00+00:00</th>\n",
       "      <td>-16.73</td>\n",
       "      <td>-43.87</td>\n",
       "      <td>0.0</td>\n",
       "    </tr>\n",
       "    <tr>\n",
       "      <th>2010-08-01 00:00:00+00:00</th>\n",
       "      <td>-16.73</td>\n",
       "      <td>-43.87</td>\n",
       "      <td>0.0</td>\n",
       "    </tr>\n",
       "    <tr>\n",
       "      <th>2010-09-01 00:00:00+00:00</th>\n",
       "      <td>-16.73</td>\n",
       "      <td>-43.87</td>\n",
       "      <td>55.0</td>\n",
       "    </tr>\n",
       "    <tr>\n",
       "      <th>2010-10-01 00:00:00+00:00</th>\n",
       "      <td>-16.73</td>\n",
       "      <td>-43.87</td>\n",
       "      <td>1039.0</td>\n",
       "    </tr>\n",
       "    <tr>\n",
       "      <th>2010-11-01 00:00:00+00:00</th>\n",
       "      <td>-16.73</td>\n",
       "      <td>-43.87</td>\n",
       "      <td>3250.0</td>\n",
       "    </tr>\n",
       "    <tr>\n",
       "      <th>2010-12-01 00:00:00+00:00</th>\n",
       "      <td>-16.73</td>\n",
       "      <td>-43.87</td>\n",
       "      <td>2812.0</td>\n",
       "    </tr>\n",
       "  </tbody>\n",
       "</table>\n",
       "</div>"
      ],
      "text/plain": [
       "                           latitude[unit=\"degrees_north\"]  \\\n",
       "time                                                        \n",
       "2010-01-01 00:00:00+00:00                          -16.73   \n",
       "2010-02-01 00:00:00+00:00                          -16.73   \n",
       "2010-03-01 00:00:00+00:00                          -16.73   \n",
       "2010-04-01 00:00:00+00:00                          -16.73   \n",
       "2010-05-01 00:00:00+00:00                          -16.73   \n",
       "2010-06-01 00:00:00+00:00                          -16.73   \n",
       "2010-07-01 00:00:00+00:00                          -16.73   \n",
       "2010-08-01 00:00:00+00:00                          -16.73   \n",
       "2010-09-01 00:00:00+00:00                          -16.73   \n",
       "2010-10-01 00:00:00+00:00                          -16.73   \n",
       "2010-11-01 00:00:00+00:00                          -16.73   \n",
       "2010-12-01 00:00:00+00:00                          -16.73   \n",
       "\n",
       "                           longitude[unit=\"degrees_east\"]  ppt[unit=\"mm\"]  \n",
       "time                                                                       \n",
       "2010-01-01 00:00:00+00:00                          -43.87           328.0  \n",
       "2010-02-01 00:00:00+00:00                          -43.87           211.0  \n",
       "2010-03-01 00:00:00+00:00                          -43.87          2797.0  \n",
       "2010-04-01 00:00:00+00:00                          -43.87           252.0  \n",
       "2010-05-01 00:00:00+00:00                          -43.87           665.0  \n",
       "2010-06-01 00:00:00+00:00                          -43.87             0.0  \n",
       "2010-07-01 00:00:00+00:00                          -43.87             0.0  \n",
       "2010-08-01 00:00:00+00:00                          -43.87             0.0  \n",
       "2010-09-01 00:00:00+00:00                          -43.87            55.0  \n",
       "2010-10-01 00:00:00+00:00                          -43.87          1039.0  \n",
       "2010-11-01 00:00:00+00:00                          -43.87          3250.0  \n",
       "2010-12-01 00:00:00+00:00                          -43.87          2812.0  "
      ]
     },
     "execution_count": 6,
     "metadata": {},
     "output_type": "execute_result"
    }
   ],
   "source": [
    "import pandas as pd\n",
    "\n",
    "df = pd.read_csv('../data/TerraClimate/terraclimate_ppt_MOC_2010.csv')\n",
    "df['time'] = pd.to_datetime(df['time'])\n",
    "df.set_index('time', inplace=True)\n",
    "\n",
    "df.head(12)"
   ]
  },
  {
   "cell_type": "markdown",
   "id": "a8836abf",
   "metadata": {},
   "source": [
    "# **Validação dos Dados de Preciptação do TerraClima**\n",
    "\n",
    "## **Etapa 1 — Agregar o INMET para escala mensal**\n",
    "> Você deve transformar os dados diários do INMET em precipitação total mensal, para compará-los diretamente ao TerraClimate."
   ]
  },
  {
   "cell_type": "code",
   "execution_count": null,
   "id": "56a6d6ae",
   "metadata": {},
   "outputs": [],
   "source": [
    "import pandas as pd"
   ]
  },
  {
   "cell_type": "code",
   "execution_count": 7,
   "id": "032f5cb6",
   "metadata": {},
   "outputs": [],
   "source": [
    "# Carrega os dados diários do INMET\n",
    "df_inmet = pd.read_csv('../data/processed/chuva_moc.csv')"
   ]
  },
  {
   "cell_type": "code",
   "execution_count": 8,
   "id": "bf329ba1",
   "metadata": {},
   "outputs": [
    {
     "data": {
      "text/html": [
       "<div>\n",
       "<style scoped>\n",
       "    .dataframe tbody tr th:only-of-type {\n",
       "        vertical-align: middle;\n",
       "    }\n",
       "\n",
       "    .dataframe tbody tr th {\n",
       "        vertical-align: top;\n",
       "    }\n",
       "\n",
       "    .dataframe thead th {\n",
       "        text-align: right;\n",
       "    }\n",
       "</style>\n",
       "<table border=\"1\" class=\"dataframe\">\n",
       "  <thead>\n",
       "    <tr style=\"text-align: right;\">\n",
       "      <th></th>\n",
       "      <th>data</th>\n",
       "      <th>precipitacao_mm</th>\n",
       "      <th>temp_media</th>\n",
       "      <th>umidade_media</th>\n",
       "    </tr>\n",
       "  </thead>\n",
       "  <tbody>\n",
       "    <tr>\n",
       "      <th>0</th>\n",
       "      <td>2003-01-01</td>\n",
       "      <td>7.0</td>\n",
       "      <td>22.8</td>\n",
       "      <td>89.3</td>\n",
       "    </tr>\n",
       "    <tr>\n",
       "      <th>1</th>\n",
       "      <td>2003-01-02</td>\n",
       "      <td>11.2</td>\n",
       "      <td>23.0</td>\n",
       "      <td>89.8</td>\n",
       "    </tr>\n",
       "    <tr>\n",
       "      <th>2</th>\n",
       "      <td>2003-01-03</td>\n",
       "      <td>7.8</td>\n",
       "      <td>22.4</td>\n",
       "      <td>93.1</td>\n",
       "    </tr>\n",
       "    <tr>\n",
       "      <th>3</th>\n",
       "      <td>2003-01-04</td>\n",
       "      <td>52.2</td>\n",
       "      <td>24.1</td>\n",
       "      <td>81.8</td>\n",
       "    </tr>\n",
       "    <tr>\n",
       "      <th>4</th>\n",
       "      <td>2003-01-05</td>\n",
       "      <td>20.8</td>\n",
       "      <td>23.0</td>\n",
       "      <td>87.1</td>\n",
       "    </tr>\n",
       "  </tbody>\n",
       "</table>\n",
       "</div>"
      ],
      "text/plain": [
       "         data  precipitacao_mm  temp_media  umidade_media\n",
       "0  2003-01-01              7.0        22.8           89.3\n",
       "1  2003-01-02             11.2        23.0           89.8\n",
       "2  2003-01-03              7.8        22.4           93.1\n",
       "3  2003-01-04             52.2        24.1           81.8\n",
       "4  2003-01-05             20.8        23.0           87.1"
      ]
     },
     "execution_count": 8,
     "metadata": {},
     "output_type": "execute_result"
    }
   ],
   "source": [
    "df_inmet.head()"
   ]
  },
  {
   "cell_type": "code",
   "execution_count": null,
   "id": "daf260ef",
   "metadata": {},
   "outputs": [
    {
     "name": "stdout",
     "output_type": "stream",
     "text": [
      "           data  precipitacao_mm\n",
      "3511 2014-01-01              0.0\n",
      "3512 2014-01-02              0.0\n",
      "3513 2014-01-03              0.0\n",
      "3514 2014-01-04              0.0\n",
      "3515 2014-01-05              0.0\n",
      "3516 2014-01-06              0.0\n",
      "3517 2014-01-07              0.0\n",
      "3518 2014-01-08              0.0\n",
      "3519 2014-01-09              0.0\n",
      "3520 2014-01-10              0.6\n",
      "3521 2014-01-11              0.0\n",
      "3522 2014-01-12              0.0\n",
      "3523 2014-01-13              0.0\n",
      "3524 2014-01-14              0.0\n",
      "3525 2014-01-15              0.0\n",
      "3526 2014-01-16              0.0\n",
      "3527 2014-01-17              0.0\n",
      "3528 2014-01-18              0.0\n",
      "3529 2014-01-19              1.4\n",
      "3530 2014-01-20              0.8\n",
      "3531 2014-01-21              0.6\n",
      "3532 2014-01-22              4.6\n",
      "3533 2014-01-23              0.0\n",
      "3534 2014-01-24             15.6\n",
      "3535 2014-01-25              0.0\n",
      "3536 2014-01-26              0.0\n",
      "3537 2014-01-27              0.0\n",
      "3538 2014-01-28              0.0\n",
      "3539 2014-01-29              0.0\n",
      "3540 2014-01-30              0.0\n",
      "3541 2014-01-31              0.0\n"
     ]
    }
   ],
   "source": [
    "df_inmet['data'] = pd.to_datetime(df_inmet['data'])\n",
    "# Filtrar apenas os dados de janeiro de 2014\n",
    "janeiro_2014 = df_inmet[\n",
    "    (df_inmet['data'].dt.year == 2014) & (df_inmet['data'].dt.month == 1)\n",
    "]\n",
    "\n",
    "# Visualizar os dados de precipitação nesse período\n",
    "print(janeiro_2014[['data', 'precipitacao_mm']])"
   ]
  },
  {
   "cell_type": "code",
   "execution_count": 37,
   "id": "8bc454cc",
   "metadata": {},
   "outputs": [
    {
     "name": "stdout",
     "output_type": "stream",
     "text": [
      "<class 'pandas.core.frame.DataFrame'>\n",
      "Index: 31 entries, 3511 to 3541\n",
      "Data columns (total 5 columns):\n",
      " #   Column           Non-Null Count  Dtype         \n",
      "---  ------           --------------  -----         \n",
      " 0   data             31 non-null     datetime64[ns]\n",
      " 1   precipitacao_mm  31 non-null     float64       \n",
      " 2   temp_media       31 non-null     float64       \n",
      " 3   umidade_media    31 non-null     float64       \n",
      " 4   month            31 non-null     period[M]     \n",
      "dtypes: datetime64[ns](1), float64(3), period[M](1)\n",
      "memory usage: 1.5 KB\n"
     ]
    }
   ],
   "source": [
    "janeiro_2014.info()"
   ]
  },
  {
   "cell_type": "code",
   "execution_count": 38,
   "id": "62ee82d9",
   "metadata": {},
   "outputs": [
    {
     "name": "stdout",
     "output_type": "stream",
     "text": [
      "Total de precipitação em janeiro de 2014: 23.60 mm\n"
     ]
    }
   ],
   "source": [
    "total_janeiro_2014 = janeiro_2014['precipitacao_mm'].sum()\n",
    "print(f'Total de precipitação em janeiro de 2014: {total_janeiro_2014:.2f} mm')"
   ]
  },
  {
   "cell_type": "code",
   "execution_count": 39,
   "id": "6ef8106f",
   "metadata": {},
   "outputs": [
    {
     "name": "stdout",
     "output_type": "stream",
     "text": [
      "           data  precipitacao_mm\n",
      "3815 2014-11-01              0.0\n",
      "3816 2014-11-02              0.0\n",
      "3817 2014-11-03              0.0\n",
      "3818 2014-11-04              0.0\n",
      "3819 2014-11-05              0.0\n",
      "3820 2014-11-06              0.0\n",
      "3821 2014-11-07              0.0\n",
      "3822 2014-11-08              0.0\n",
      "3823 2014-11-09              1.0\n",
      "3824 2014-11-10             27.2\n",
      "3825 2014-11-11             19.6\n",
      "3826 2014-11-12              0.0\n",
      "3827 2014-11-13              3.0\n",
      "3828 2014-11-14              6.4\n",
      "3829 2014-11-15             31.0\n",
      "3830 2014-11-16              0.8\n",
      "3831 2014-11-17              0.0\n",
      "3832 2014-11-18              0.0\n",
      "3833 2014-11-19              0.0\n",
      "3834 2014-11-20              0.0\n",
      "3835 2014-11-21              0.0\n",
      "3836 2014-11-22              0.0\n",
      "3837 2014-11-23              0.0\n",
      "3838 2014-11-24              1.6\n",
      "3839 2014-11-25             20.2\n",
      "3840 2014-11-26              5.4\n",
      "3841 2014-11-27              1.0\n",
      "3842 2014-11-28              0.0\n",
      "3843 2014-11-29              0.0\n",
      "3844 2014-11-30              0.0\n"
     ]
    }
   ],
   "source": [
    "# Filtrar apenas os dados de novembro de 2014\n",
    "novembro_2014 = df_inmet[\n",
    "    (df_inmet['data'].dt.year == 2014) & (df_inmet['data'].dt.month == 11)\n",
    "]\n",
    "\n",
    "# Visualizar os dados de precipitação nesse período\n",
    "print(novembro_2014[['data', 'precipitacao_mm']])"
   ]
  },
  {
   "cell_type": "code",
   "execution_count": 40,
   "id": "6f50b70c",
   "metadata": {},
   "outputs": [
    {
     "name": "stdout",
     "output_type": "stream",
     "text": [
      "Total de precipitação em janeiro de 2014: 117.20 mm\n"
     ]
    }
   ],
   "source": [
    "total_novembro_2014 = novembro_2014['precipitacao_mm'].sum()\n",
    "print(f'Total de precipitação em janeiro de 2014: {total_novembro_2014:.2f} mm')"
   ]
  },
  {
   "cell_type": "code",
   "execution_count": 9,
   "id": "1588b203",
   "metadata": {},
   "outputs": [],
   "source": [
    "# Converter e agrupar\n",
    "df_inmet['data'] = pd.to_datetime(df_inmet['data'])\n",
    "df_inmet['month'] = df_inmet['data'].dt.to_period('M')\n",
    "df_mensal = df_inmet.groupby('month')['precipitacao_mm'].sum().reset_index()\n",
    "df_mensal['month'] = df_mensal['month'].dt.to_timestamp()\n",
    "df_mensal = df_mensal.rename(columns={'month': 'date', 'precipitacao_mm': 'ppt_inmet'})"
   ]
  },
  {
   "cell_type": "code",
   "execution_count": 14,
   "id": "c036aaf2",
   "metadata": {},
   "outputs": [
    {
     "data": {
      "text/html": [
       "<div>\n",
       "<style scoped>\n",
       "    .dataframe tbody tr th:only-of-type {\n",
       "        vertical-align: middle;\n",
       "    }\n",
       "\n",
       "    .dataframe tbody tr th {\n",
       "        vertical-align: top;\n",
       "    }\n",
       "\n",
       "    .dataframe thead th {\n",
       "        text-align: right;\n",
       "    }\n",
       "</style>\n",
       "<table border=\"1\" class=\"dataframe\">\n",
       "  <thead>\n",
       "    <tr style=\"text-align: right;\">\n",
       "      <th></th>\n",
       "      <th>date</th>\n",
       "      <th>ppt_inmet</th>\n",
       "    </tr>\n",
       "  </thead>\n",
       "  <tbody>\n",
       "    <tr>\n",
       "      <th>0</th>\n",
       "      <td>2003-01-01</td>\n",
       "      <td>158.4</td>\n",
       "    </tr>\n",
       "    <tr>\n",
       "      <th>1</th>\n",
       "      <td>2003-02-01</td>\n",
       "      <td>23.4</td>\n",
       "    </tr>\n",
       "    <tr>\n",
       "      <th>2</th>\n",
       "      <td>2003-03-01</td>\n",
       "      <td>37.2</td>\n",
       "    </tr>\n",
       "    <tr>\n",
       "      <th>3</th>\n",
       "      <td>2003-04-01</td>\n",
       "      <td>3.2</td>\n",
       "    </tr>\n",
       "    <tr>\n",
       "      <th>4</th>\n",
       "      <td>2003-05-01</td>\n",
       "      <td>5.2</td>\n",
       "    </tr>\n",
       "    <tr>\n",
       "      <th>5</th>\n",
       "      <td>2003-06-01</td>\n",
       "      <td>0.0</td>\n",
       "    </tr>\n",
       "    <tr>\n",
       "      <th>6</th>\n",
       "      <td>2003-07-01</td>\n",
       "      <td>0.0</td>\n",
       "    </tr>\n",
       "    <tr>\n",
       "      <th>7</th>\n",
       "      <td>2003-08-01</td>\n",
       "      <td>9.2</td>\n",
       "    </tr>\n",
       "    <tr>\n",
       "      <th>8</th>\n",
       "      <td>2003-09-01</td>\n",
       "      <td>0.2</td>\n",
       "    </tr>\n",
       "    <tr>\n",
       "      <th>9</th>\n",
       "      <td>2003-10-01</td>\n",
       "      <td>49.2</td>\n",
       "    </tr>\n",
       "    <tr>\n",
       "      <th>10</th>\n",
       "      <td>2003-11-01</td>\n",
       "      <td>53.0</td>\n",
       "    </tr>\n",
       "    <tr>\n",
       "      <th>11</th>\n",
       "      <td>2003-12-01</td>\n",
       "      <td>177.4</td>\n",
       "    </tr>\n",
       "  </tbody>\n",
       "</table>\n",
       "</div>"
      ],
      "text/plain": [
       "         date  ppt_inmet\n",
       "0  2003-01-01      158.4\n",
       "1  2003-02-01       23.4\n",
       "2  2003-03-01       37.2\n",
       "3  2003-04-01        3.2\n",
       "4  2003-05-01        5.2\n",
       "5  2003-06-01        0.0\n",
       "6  2003-07-01        0.0\n",
       "7  2003-08-01        9.2\n",
       "8  2003-09-01        0.2\n",
       "9  2003-10-01       49.2\n",
       "10 2003-11-01       53.0\n",
       "11 2003-12-01      177.4"
      ]
     },
     "execution_count": 14,
     "metadata": {},
     "output_type": "execute_result"
    }
   ],
   "source": [
    "df_mensal.head(12)"
   ]
  },
  {
   "cell_type": "markdown",
   "id": "ed88d19f",
   "metadata": {},
   "source": [
    "## **Etapa 2 — Carregar os dados do TerraClimate**"
   ]
  },
  {
   "cell_type": "code",
   "execution_count": 12,
   "id": "d3ea143c",
   "metadata": {},
   "outputs": [],
   "source": [
    "df_terra = pd.read_csv('../data/TerraClimate/ppt_data/ppt_moc_2003_2024.csv')\n",
    "df_terra['date'] = pd.to_datetime(df_terra['date'])"
   ]
  },
  {
   "cell_type": "code",
   "execution_count": 15,
   "id": "1336cc5f",
   "metadata": {},
   "outputs": [
    {
     "data": {
      "text/html": [
       "<div>\n",
       "<style scoped>\n",
       "    .dataframe tbody tr th:only-of-type {\n",
       "        vertical-align: middle;\n",
       "    }\n",
       "\n",
       "    .dataframe tbody tr th {\n",
       "        vertical-align: top;\n",
       "    }\n",
       "\n",
       "    .dataframe thead th {\n",
       "        text-align: right;\n",
       "    }\n",
       "</style>\n",
       "<table border=\"1\" class=\"dataframe\">\n",
       "  <thead>\n",
       "    <tr style=\"text-align: right;\">\n",
       "      <th></th>\n",
       "      <th>date</th>\n",
       "      <th>ppt</th>\n",
       "    </tr>\n",
       "  </thead>\n",
       "  <tbody>\n",
       "    <tr>\n",
       "      <th>0</th>\n",
       "      <td>2003-01-01 00:00:00+00:00</td>\n",
       "      <td>2399.0</td>\n",
       "    </tr>\n",
       "    <tr>\n",
       "      <th>1</th>\n",
       "      <td>2003-02-01 00:00:00+00:00</td>\n",
       "      <td>338.0</td>\n",
       "    </tr>\n",
       "    <tr>\n",
       "      <th>2</th>\n",
       "      <td>2003-03-01 00:00:00+00:00</td>\n",
       "      <td>515.0</td>\n",
       "    </tr>\n",
       "    <tr>\n",
       "      <th>3</th>\n",
       "      <td>2003-04-01 00:00:00+00:00</td>\n",
       "      <td>74.0</td>\n",
       "    </tr>\n",
       "    <tr>\n",
       "      <th>4</th>\n",
       "      <td>2003-05-01 00:00:00+00:00</td>\n",
       "      <td>76.0</td>\n",
       "    </tr>\n",
       "    <tr>\n",
       "      <th>5</th>\n",
       "      <td>2003-06-01 00:00:00+00:00</td>\n",
       "      <td>0.0</td>\n",
       "    </tr>\n",
       "    <tr>\n",
       "      <th>6</th>\n",
       "      <td>2003-07-01 00:00:00+00:00</td>\n",
       "      <td>0.0</td>\n",
       "    </tr>\n",
       "    <tr>\n",
       "      <th>7</th>\n",
       "      <td>2003-08-01 00:00:00+00:00</td>\n",
       "      <td>181.0</td>\n",
       "    </tr>\n",
       "    <tr>\n",
       "      <th>8</th>\n",
       "      <td>2003-09-01 00:00:00+00:00</td>\n",
       "      <td>8.0</td>\n",
       "    </tr>\n",
       "    <tr>\n",
       "      <th>9</th>\n",
       "      <td>2003-10-01 00:00:00+00:00</td>\n",
       "      <td>584.0</td>\n",
       "    </tr>\n",
       "    <tr>\n",
       "      <th>10</th>\n",
       "      <td>2003-11-01 00:00:00+00:00</td>\n",
       "      <td>717.0</td>\n",
       "    </tr>\n",
       "    <tr>\n",
       "      <th>11</th>\n",
       "      <td>2003-12-01 00:00:00+00:00</td>\n",
       "      <td>2080.0</td>\n",
       "    </tr>\n",
       "  </tbody>\n",
       "</table>\n",
       "</div>"
      ],
      "text/plain": [
       "                        date     ppt\n",
       "0  2003-01-01 00:00:00+00:00  2399.0\n",
       "1  2003-02-01 00:00:00+00:00   338.0\n",
       "2  2003-03-01 00:00:00+00:00   515.0\n",
       "3  2003-04-01 00:00:00+00:00    74.0\n",
       "4  2003-05-01 00:00:00+00:00    76.0\n",
       "5  2003-06-01 00:00:00+00:00     0.0\n",
       "6  2003-07-01 00:00:00+00:00     0.0\n",
       "7  2003-08-01 00:00:00+00:00   181.0\n",
       "8  2003-09-01 00:00:00+00:00     8.0\n",
       "9  2003-10-01 00:00:00+00:00   584.0\n",
       "10 2003-11-01 00:00:00+00:00   717.0\n",
       "11 2003-12-01 00:00:00+00:00  2080.0"
      ]
     },
     "execution_count": 15,
     "metadata": {},
     "output_type": "execute_result"
    }
   ],
   "source": [
    "df_terra.head(12)"
   ]
  },
  {
   "cell_type": "markdown",
   "id": "3085f9c2",
   "metadata": {},
   "source": [
    "## **Etapa 3 — Juntar os dois conjuntos**"
   ]
  },
  {
   "cell_type": "code",
   "execution_count": null,
   "id": "61e817db",
   "metadata": {},
   "outputs": [
    {
     "name": "stdout",
     "output_type": "stream",
     "text": [
      "datetime64[ns, UTC]\n",
      "datetime64[ns]\n"
     ]
    }
   ],
   "source": [
    "print(df_terra['date'].dtype)\n",
    "print(df_mensal['date'].dtype)"
   ]
  },
  {
   "cell_type": "code",
   "execution_count": 18,
   "id": "3d3d8b7e",
   "metadata": {},
   "outputs": [],
   "source": [
    "# Remove timezone se houver\n",
    "df_terra['date'] = df_terra['date'].dt.tz_localize(None)"
   ]
  },
  {
   "cell_type": "code",
   "execution_count": 19,
   "id": "0f9688f3",
   "metadata": {},
   "outputs": [],
   "source": [
    "# Merge pelos meses em comum\n",
    "df_comparacao = pd.merge(df_terra, df_mensal, on='date', how='inner')"
   ]
  },
  {
   "cell_type": "code",
   "execution_count": 20,
   "id": "06836c37",
   "metadata": {},
   "outputs": [
    {
     "data": {
      "text/html": [
       "<div>\n",
       "<style scoped>\n",
       "    .dataframe tbody tr th:only-of-type {\n",
       "        vertical-align: middle;\n",
       "    }\n",
       "\n",
       "    .dataframe tbody tr th {\n",
       "        vertical-align: top;\n",
       "    }\n",
       "\n",
       "    .dataframe thead th {\n",
       "        text-align: right;\n",
       "    }\n",
       "</style>\n",
       "<table border=\"1\" class=\"dataframe\">\n",
       "  <thead>\n",
       "    <tr style=\"text-align: right;\">\n",
       "      <th></th>\n",
       "      <th>date</th>\n",
       "      <th>ppt</th>\n",
       "      <th>ppt_inmet</th>\n",
       "    </tr>\n",
       "  </thead>\n",
       "  <tbody>\n",
       "    <tr>\n",
       "      <th>0</th>\n",
       "      <td>2003-01-01</td>\n",
       "      <td>2399.0</td>\n",
       "      <td>158.4</td>\n",
       "    </tr>\n",
       "    <tr>\n",
       "      <th>1</th>\n",
       "      <td>2003-02-01</td>\n",
       "      <td>338.0</td>\n",
       "      <td>23.4</td>\n",
       "    </tr>\n",
       "    <tr>\n",
       "      <th>2</th>\n",
       "      <td>2003-03-01</td>\n",
       "      <td>515.0</td>\n",
       "      <td>37.2</td>\n",
       "    </tr>\n",
       "    <tr>\n",
       "      <th>3</th>\n",
       "      <td>2003-04-01</td>\n",
       "      <td>74.0</td>\n",
       "      <td>3.2</td>\n",
       "    </tr>\n",
       "    <tr>\n",
       "      <th>4</th>\n",
       "      <td>2003-05-01</td>\n",
       "      <td>76.0</td>\n",
       "      <td>5.2</td>\n",
       "    </tr>\n",
       "  </tbody>\n",
       "</table>\n",
       "</div>"
      ],
      "text/plain": [
       "        date     ppt  ppt_inmet\n",
       "0 2003-01-01  2399.0      158.4\n",
       "1 2003-02-01   338.0       23.4\n",
       "2 2003-03-01   515.0       37.2\n",
       "3 2003-04-01    74.0        3.2\n",
       "4 2003-05-01    76.0        5.2"
      ]
     },
     "execution_count": 20,
     "metadata": {},
     "output_type": "execute_result"
    }
   ],
   "source": [
    "df_comparacao.head()"
   ]
  },
  {
   "cell_type": "markdown",
   "id": "2b164d9c",
   "metadata": {},
   "source": [
    "## **Etapa 4 — Análise de correlação e plot**"
   ]
  },
  {
   "cell_type": "code",
   "execution_count": null,
   "id": "595964d9",
   "metadata": {},
   "outputs": [],
   "source": [
    "# Remove timezone se houver\n",
    "df_terra['date'] = df_terra['date'].dt.tz_localize(None)"
   ]
  },
  {
   "cell_type": "code",
   "execution_count": 21,
   "id": "868218ae",
   "metadata": {},
   "outputs": [
    {
     "name": "stdout",
     "output_type": "stream",
     "text": [
      "Correlação Pearson: 0.9094101016441914\n"
     ]
    },
    {
     "data": {
      "image/png": "[encoded data removed]",
      "text/plain": [
       "<Figure size 1200x500 with 1 Axes>"
      ]
     },
     "metadata": {},
     "output_type": "display_data"
    }
   ],
   "source": [
    "# Correlação\n",
    "print(\"Correlação Pearson:\", df_comparacao['ppt'].corr(df_comparacao['ppt_inmet']))\n",
    "\n",
    "# Plot comparativo\n",
    "plt.figure(figsize=(12, 5))\n",
    "plt.plot(df_comparacao['date'], df_comparacao['ppt'], label='TerraClimate', marker='o')\n",
    "plt.plot(df_comparacao['date'], df_comparacao['ppt_inmet'], label='INMET', marker='x')\n",
    "plt.title('Comparação Mensal de Precipitação - Montes Claros/MG')\n",
    "plt.xlabel('Data')\n",
    "plt.ylabel('Precipitação (mm)')\n",
    "plt.legend()\n",
    "plt.grid(True)\n",
    "plt.tight_layout()\n",
    "plt.show()"
   ]
  },
  {
   "cell_type": "code",
   "execution_count": 23,
   "id": "b80f9c00",
   "metadata": {},
   "outputs": [
    {
     "name": "stdout",
     "output_type": "stream",
     "text": [
      " Arquivo salvo em: ../data/processed/ppt_comparacao_terra_inmet.csv\n"
     ]
    }
   ],
   "source": [
    "# Caminho de saída (ajuste se necessário)\n",
    "output_path = '../data/processed/ppt_comparacao_terra_inmet.csv'\n",
    "\n",
    "# Salvar o DataFrame em CSV\n",
    "df_comparacao.to_csv(output_path, index=False)\n",
    "\n",
    "print(f\" Arquivo salvo em: {output_path}\")"
   ]
  },
  {
   "cell_type": "markdown",
   "id": "5fdfc916",
   "metadata": {},
   "source": [
    "---"
   ]
  },
  {
   "cell_type": "code",
   "execution_count": 26,
   "id": "d07e05f4",
   "metadata": {},
   "outputs": [
    {
     "name": "stdout",
     "output_type": "stream",
     "text": [
      "{'units': 'mm', 'description': 'Accumulated Precipitation', 'long_name': 'precipitation_amount', 'standard_name': 'precipitation_amount', 'dimensions': 'lon lat time', 'grid_mapping': 'crs', 'coordinate_system': 'WGS84,EPSG:4326'}\n",
      "<xarray.DataArray 'ppt' (lat: 4320, lon: 8640)> Size: 299MB\n",
      "[37324800 values with dtype=float64]\n",
      "Coordinates:\n",
      "  * lat      (lat) float64 35kB 89.98 89.94 89.9 89.85 ... -89.9 -89.94 -89.98\n",
      "  * lon      (lon) float64 69kB -180.0 -179.9 -179.9 ... 179.9 179.9 180.0\n",
      "    time     datetime64[ns] 8B 2014-01-01\n",
      "Attributes:\n",
      "    units:              mm\n",
      "    description:        Accumulated Precipitation\n",
      "    long_name:          precipitation_amount\n",
      "    standard_name:      precipitation_amount\n",
      "    dimensions:         lon lat time\n",
      "    grid_mapping:       crs\n",
      "    coordinate_system:  WGS84,EPSG:4326\n"
     ]
    }
   ],
   "source": [
    "import xarray as xr\n",
    "\n",
    "ds = xr.open_dataset('../data/TerraClimate/TerraClimate_ppt_2014.nc')\n",
    "var = ds['ppt']\n",
    "print(var.attrs)\n",
    "print(var.isel(time=0))"
   ]
  },
  {
   "cell_type": "code",
   "execution_count": 27,
   "id": "e5388345",
   "metadata": {},
   "outputs": [
    {
     "name": "stdout",
     "output_type": "stream",
     "text": [
      "Raw value example: None -> scaled: [[nan nan nan ... nan nan nan]\n",
      " [nan nan nan ... nan nan nan]\n",
      " [nan nan nan ... nan nan nan]\n",
      " ...\n",
      " [ 0.  0.  0. ...  0.  0.  0.]\n",
      " [ 0.  0.  0. ...  0.  0.  0.]\n",
      " [ 0.  0.  0. ...  0.  0.  0.]]\n"
     ]
    }
   ],
   "source": [
    "import numpy as np\n",
    "\n",
    "# Carregar com xarray original\n",
    "var = ds['ppt']\n",
    "raw = ds['ppt'].encoding.get('raw_values', None)\n",
    "print('Raw value example:', raw, '-> scaled:', var.isel(time=0).values)"
   ]
  },
  {
   "cell_type": "code",
   "execution_count": null,
   "id": "a5fef6bd",
   "metadata": {},
   "outputs": [
    {
     "name": "stdout",
     "output_type": "stream",
     "text": [
      "         time        lat        lon    ppt\n",
      "0  2014-01-01 -16.729167 -43.854167   24.3\n",
      "1  2014-02-01 -16.729167 -43.854167   16.0\n",
      "2  2014-03-01 -16.729167 -43.854167   85.3\n",
      "3  2014-04-01 -16.729167 -43.854167   49.1\n",
      "4  2014-05-01 -16.729167 -43.854167    3.2\n",
      "5  2014-06-01 -16.729167 -43.854167    2.6\n",
      "6  2014-07-01 -16.729167 -43.854167    0.7\n",
      "7  2014-08-01 -16.729167 -43.854167    0.1\n",
      "8  2014-09-01 -16.729167 -43.854167    3.4\n",
      "9  2014-10-01 -16.729167 -43.854167   95.2\n",
      "10 2014-11-01 -16.729167 -43.854167  163.1\n",
      "11 2014-12-01 -16.729167 -43.854167  100.7\n"
     ]
    }
   ],
   "source": [
    "import xarray as xr\n",
    "import pandas as pd\n",
    "\n",
    "# Abrir o arquivo NetCDF de 2014\n",
    "ds = xr.open_dataset('../data/TerraClimate/TerraClimate_ppt_2014.nc')\n",
    "\n",
    "# Coordenadas de Montes Claros\n",
    "lat_moc = -16.73\n",
    "lon_moc = -43.87\n",
    "\n",
    "# Selecionar o ponto mais próximo (método 'nearest')\n",
    "ppt_moc = ds['ppt'].sel(lat=lat_moc, lon=lon_moc, method='nearest')\n",
    "\n",
    "# Converter para DataFrame\n",
    "df_ppt_2014 = ppt_moc.to_dataframe().reset_index()\n",
    "\n",
    "# Salvar (opcional)\n",
    "df_ppt_2014.to_csv('../data/processed/ppt_moc_2014_from_nc.csv', index=False)\n",
    "\n",
    "# Visualizar\n",
    "print(df_ppt_2014)\n"
   ]
  },
  {
   "cell_type": "code",
   "execution_count": 29,
   "id": "f80498c4",
   "metadata": {},
   "outputs": [],
   "source": [
    "# Filtrar dados de 2014\n",
    "df_2014 = df_comparacao[df_comparacao['date'].dt.year == 2014]"
   ]
  },
  {
   "cell_type": "code",
   "execution_count": 31,
   "id": "5318fb5c",
   "metadata": {},
   "outputs": [
    {
     "data": {
      "text/html": [
       "<div>\n",
       "<style scoped>\n",
       "    .dataframe tbody tr th:only-of-type {\n",
       "        vertical-align: middle;\n",
       "    }\n",
       "\n",
       "    .dataframe tbody tr th {\n",
       "        vertical-align: top;\n",
       "    }\n",
       "\n",
       "    .dataframe thead th {\n",
       "        text-align: right;\n",
       "    }\n",
       "</style>\n",
       "<table border=\"1\" class=\"dataframe\">\n",
       "  <thead>\n",
       "    <tr style=\"text-align: right;\">\n",
       "      <th></th>\n",
       "      <th>date</th>\n",
       "      <th>ppt</th>\n",
       "      <th>ppt_inmet</th>\n",
       "    </tr>\n",
       "  </thead>\n",
       "  <tbody>\n",
       "    <tr>\n",
       "      <th>123</th>\n",
       "      <td>2014-01-01</td>\n",
       "      <td>243.0</td>\n",
       "      <td>23.6</td>\n",
       "    </tr>\n",
       "    <tr>\n",
       "      <th>124</th>\n",
       "      <td>2014-02-01</td>\n",
       "      <td>160.0</td>\n",
       "      <td>12.6</td>\n",
       "    </tr>\n",
       "    <tr>\n",
       "      <th>125</th>\n",
       "      <td>2014-03-01</td>\n",
       "      <td>853.0</td>\n",
       "      <td>75.4</td>\n",
       "    </tr>\n",
       "    <tr>\n",
       "      <th>126</th>\n",
       "      <td>2014-04-01</td>\n",
       "      <td>491.0</td>\n",
       "      <td>34.6</td>\n",
       "    </tr>\n",
       "    <tr>\n",
       "      <th>127</th>\n",
       "      <td>2014-05-01</td>\n",
       "      <td>32.0</td>\n",
       "      <td>2.0</td>\n",
       "    </tr>\n",
       "    <tr>\n",
       "      <th>128</th>\n",
       "      <td>2014-06-01</td>\n",
       "      <td>26.0</td>\n",
       "      <td>1.8</td>\n",
       "    </tr>\n",
       "    <tr>\n",
       "      <th>129</th>\n",
       "      <td>2014-07-01</td>\n",
       "      <td>7.0</td>\n",
       "      <td>0.0</td>\n",
       "    </tr>\n",
       "    <tr>\n",
       "      <th>130</th>\n",
       "      <td>2014-08-01</td>\n",
       "      <td>1.0</td>\n",
       "      <td>0.0</td>\n",
       "    </tr>\n",
       "    <tr>\n",
       "      <th>131</th>\n",
       "      <td>2014-09-01</td>\n",
       "      <td>34.0</td>\n",
       "      <td>2.8</td>\n",
       "    </tr>\n",
       "    <tr>\n",
       "      <th>132</th>\n",
       "      <td>2014-10-01</td>\n",
       "      <td>952.0</td>\n",
       "      <td>74.0</td>\n",
       "    </tr>\n",
       "    <tr>\n",
       "      <th>133</th>\n",
       "      <td>2014-11-01</td>\n",
       "      <td>1631.0</td>\n",
       "      <td>117.2</td>\n",
       "    </tr>\n",
       "    <tr>\n",
       "      <th>134</th>\n",
       "      <td>2014-12-01</td>\n",
       "      <td>1007.0</td>\n",
       "      <td>69.4</td>\n",
       "    </tr>\n",
       "  </tbody>\n",
       "</table>\n",
       "</div>"
      ],
      "text/plain": [
       "          date     ppt  ppt_inmet\n",
       "123 2014-01-01   243.0       23.6\n",
       "124 2014-02-01   160.0       12.6\n",
       "125 2014-03-01   853.0       75.4\n",
       "126 2014-04-01   491.0       34.6\n",
       "127 2014-05-01    32.0        2.0\n",
       "128 2014-06-01    26.0        1.8\n",
       "129 2014-07-01     7.0        0.0\n",
       "130 2014-08-01     1.0        0.0\n",
       "131 2014-09-01    34.0        2.8\n",
       "132 2014-10-01   952.0       74.0\n",
       "133 2014-11-01  1631.0      117.2\n",
       "134 2014-12-01  1007.0       69.4"
      ]
     },
     "execution_count": 31,
     "metadata": {},
     "output_type": "execute_result"
    }
   ],
   "source": [
    "df_2014.head(12)"
   ]
  },
  {
   "cell_type": "code",
   "execution_count": null,
   "id": "f6463e72",
   "metadata": {},
   "outputs": [],
   "source": []
  }
 ],
 "metadata": {
  "kernelspec": {
   "display_name": ".venv_moc",
   "language": "python",
   "name": "python3"
  },
  "language_info": {
   "codemirror_mode": {
    "name": "ipython",
    "version": 3
   },
   "file_extension": ".py",
   "mimetype": "text/x-python",
   "name": "python",
   "nbconvert_exporter": "python",
   "pygments_lexer": "ipython3",
   "version": "3.12.3"
  }
 },
 "nbformat": 4,
 "nbformat_minor": 5
}
